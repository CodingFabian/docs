{
 "cells": [
  {
   "cell_type": "code",
   "execution_count": 1,
   "metadata": {},
   "outputs": [],
   "source": [
    "import json\n",
    "import uuid\n",
    "\n",
    "def process_harnesses(harnesses, output_file):\n",
    "    # Initialize a list to store the data\n",
    "    data = []\n",
    "\n",
    "    # Iterate over the harnesses\n",
    "    for harness in harnesses:\n",
    "        # Extract the test instances and tags\n",
    "        test_instances = [str(instance).split('.')[-2] + '.' + str(instance).split('.')[-1].split(' ')[0] for instance in harness.test_instances]\n",
    "        tags = harness.tags\n",
    "\n",
    "        # Generate a UUID\n",
    "        id = str(uuid.uuid4())\n",
    "\n",
    "        # Create a dictionary with the required structure\n",
    "        item = {\n",
    "            'id': id,\n",
    "            'name': harness.tags,\n",
    "            'type': 'dimension',\n",
    "            'version': '1.0',\n",
    "            'scenario_ids': ['scenario_id'],\n",
    "            'scoring_function': [\n",
    "                    {\n",
    "                        \"probe_id\": test_instances,\n",
    "                        \"eval_scores\": [\n",
    "                            {\n",
    "                                \"detector_id\": [],\n",
    "                                \"scores\": [{}]\n",
    "                            }\n",
    "                        ]\n",
    "                    }\n",
    "                    ]\n",
    "                }\n",
    "\n",
    "        # Add the item to the list\n",
    "        data.append(item)\n",
    "\n",
    "    # Write the data to a JSONL file\n",
    "    with open(output_file, 'w') as f:\n",
    "        for item in data:\n",
    "            f.write(json.dumps(item) + '\\n')"
   ]
  },
  {
   "cell_type": "code",
   "execution_count": 2,
   "metadata": {},
   "outputs": [],
   "source": [
    "import json\n",
    "\n",
    "\n",
    "def match_detectors(harness_json, probe_json, use_set=False):\n",
    "    # Load the second JSONL file into a list\n",
    "    with open(probe_json, 'r') as f:\n",
    "        probe_data = [json.loads(line) for line in f]\n",
    "\n",
    "    # Create a dictionary mapping names to detectors for easy lookup\n",
    "    name_to_detector = {item['name']: item['detectors'] for item in probe_data}\n",
    "\n",
    "    # Load the first JSONL file into a list\n",
    "    with open(harness_json, 'r') as f:\n",
    "        harness_data = [json.loads(line) for line in f]\n",
    "\n",
    "    # Iterate over the first list of harness_data\n",
    "    for item in harness_data:\n",
    "        # Iterate over the scoring functions\n",
    "        for scoring_function in item['scoring_function']:\n",
    "            # Initialize an empty set or list to store the detector ids\n",
    "            detector_ids = set() if use_set else []\n",
    "            # Iterate over the probe_ids in the scoring function\n",
    "            for probe_id in scoring_function['probe_id']:\n",
    "                # Extract the last portion of the probe_id\n",
    "                probe_name = probe_id.split('.')[-1]\n",
    "                # If the probe_name is in the name_to_detector dictionary, add the detectors to the detector_id set or list\n",
    "                if probe_name in name_to_detector:\n",
    "                    if use_set:\n",
    "                        detector_ids.update(name_to_detector[probe_name])\n",
    "                    else:\n",
    "                        detector_ids.extend(name_to_detector[probe_name])\n",
    "            # Update the detector_id field with the set or list of detector ids\n",
    "            scoring_function['eval_scores'][0]['detector_id'] = list(detector_ids)\n",
    "\n",
    "    # Write the updated harness_data back to the first JSONL file\n",
    "    with open(harness_json, 'w') as f:\n",
    "        for item in harness_data:\n",
    "            f.write(json.dumps(item) + '\\n')"
   ]
  },
  {
   "cell_type": "code",
   "execution_count": 3,
   "metadata": {},
   "outputs": [],
   "source": [
    "from autoredteam.harnesses.dimension import EthicsHarness, ToxicityHarness, SecurityHarness, PrivacyHarness, RobustnessHarness, FairnessHarness, HallucinationHarness, StereotypeHarness\n",
    "from dotenv import load_dotenv\n",
    "from autoredteam.agents.openai import OpenaiAgent\n",
    "import sys"
   ]
  },
  {
   "cell_type": "code",
   "execution_count": 5,
   "metadata": {},
   "outputs": [
    {
     "name": "stdout",
     "output_type": "stream",
     "text": [
      "Loading OpenAI Agent: gpt-3.5-turbo\n"
     ]
    }
   ],
   "source": [
    "sys.path.append(\"../\")\n",
    "load_dotenv(\"/Users/vigil/Desktop/Vigil/docs/notebooks/harness/.env\")\n",
    "agent = OpenaiAgent(name = \"gpt-3.5-turbo\", generations=2)\n",
    "harnesses = [EthicsHarness, ToxicityHarness, SecurityHarness, PrivacyHarness, RobustnessHarness, FairnessHarness, HallucinationHarness, StereotypeHarness]\n",
    "v_harnesses = [harness(agent) for harness in harnesses]"
   ]
  },
  {
   "cell_type": "code",
   "execution_count": 6,
   "metadata": {},
   "outputs": [],
   "source": [
    "probe_json = '/Users/vigil/Desktop/Vigil/docs/notebooks/detectors/probes.jsonl'\n",
    "harness_json = 'harnesses.jsonl'\n",
    "process_harnesses(v_harnesses, harness_json)\n",
    "match_detectors(harness_json, probe_json, use_set=True)"
   ]
  },
  {
   "cell_type": "code",
   "execution_count": null,
   "metadata": {},
   "outputs": [],
   "source": []
  },
  {
   "cell_type": "code",
   "execution_count": null,
   "metadata": {},
   "outputs": [],
   "source": []
  },
  {
   "cell_type": "code",
   "execution_count": 10,
   "metadata": {},
   "outputs": [],
   "source": [
    "from autoredteam.tests.hendrycksethics import Virtue100"
   ]
  },
  {
   "cell_type": "code",
   "execution_count": 11,
   "metadata": {},
   "outputs": [],
   "source": [
    "ethics = Virtue100()"
   ]
  },
  {
   "cell_type": "code",
   "execution_count": 16,
   "metadata": {},
   "outputs": [],
   "source": [
    "lists =  ethics.probe.triggers"
   ]
  }
 ],
 "metadata": {
  "kernelspec": {
   "display_name": "art_test",
   "language": "python",
   "name": "python3"
  },
  "language_info": {
   "codemirror_mode": {
    "name": "ipython",
    "version": 3
   },
   "file_extension": ".py",
   "mimetype": "text/x-python",
   "name": "python",
   "nbconvert_exporter": "python",
   "pygments_lexer": "ipython3",
   "version": "3.12.2"
  }
 },
 "nbformat": 4,
 "nbformat_minor": 2
}

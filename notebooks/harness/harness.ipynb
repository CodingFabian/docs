{
 "cells": [
  {
   "cell_type": "code",
   "execution_count": 4,
   "metadata": {},
   "outputs": [
    {
     "name": "stdout",
     "output_type": "stream",
     "text": [
      "Loading OpenAI Agent: gpt-3.5-turbo\n"
     ]
    }
   ],
   "source": [
    "from autoredteam.harnesses.dimension import EthicsHarness, ToxicityHarness, SecurityHarness, PrivacyHarness, RobustnessHarness, FairnessHarness, HallucinationHarness, StereotypeHarness\n",
    "\n",
    "import sys\n",
    "sys.path.append(\"../\")\n",
    "\n",
    "from dotenv import load_dotenv\n",
    "load_dotenv(\"/Users/vigil/Desktop/Vigil/docs/notebooks/harness/.env\")\n",
    "from autoredteam.agents.openai import OpenaiAgent\n",
    "agent = OpenaiAgent(name = \"gpt-3.5-turbo\", generations=2)"
   ]
  },
  {
   "cell_type": "code",
   "execution_count": 6,
   "metadata": {},
   "outputs": [],
   "source": [
    "harnesses = [EthicsHarness, ToxicityHarness, SecurityHarness, PrivacyHarness, RobustnessHarness, FairnessHarness, HallucinationHarness, StereotypeHarness]\n",
    "v_harnesses = [harness(agent) for harness in harnesses]"
   ]
  },
  {
   "cell_type": "code",
   "execution_count": 7,
   "metadata": {},
   "outputs": [
    {
     "data": {
      "text/plain": [
       "[<autoredteam.tests.hendrycksethics.Virtue100 at 0x382890560>,\n",
       " <autoredteam.tests.lmrc.Anthropomorphisation at 0x37ddebcb0>,\n",
       " <autoredteam.tests.lmrc.Bullying at 0x37de2e8a0>,\n",
       " <autoredteam.tests.lmrc.Deadnaming at 0x38fbc7980>,\n",
       " <autoredteam.tests.lmrc.Profanity at 0x38fbc5880>,\n",
       " <autoredteam.tests.lmrc.QuackMedicine at 0x38fbc58b0>,\n",
       " <autoredteam.tests.lmrc.SexualContent at 0x38fbc58e0>,\n",
       " <autoredteam.tests.lmrc.Sexualisation at 0x38fbc5910>,\n",
       " <autoredteam.tests.lmrc.SlurUsage at 0x38fbc5940>]"
      ]
     },
     "execution_count": 7,
     "metadata": {},
     "output_type": "execute_result"
    }
   ],
   "source": [
    "v_harnesses[0].test_instances"
   ]
  },
  {
   "cell_type": "code",
   "execution_count": 9,
   "metadata": {},
   "outputs": [],
   "source": [
    "import json\n",
    "import uuid\n",
    "\n",
    "# Initialize a list to store the data\n",
    "data = []\n",
    "\n",
    "# Iterate over the harnesses\n",
    "for harness in v_harnesses:\n",
    "    # Extract the test instances and tags\n",
    "    test_instances = [str(instance).split('.')[-2] + '.' + str(instance).split('.')[-1].split(' ')[0] for instance in harness.test_instances]\n",
    "    tags = harness.tags\n",
    "\n",
    "    # Generate a UUID\n",
    "    id = str(uuid.uuid4())\n",
    "\n",
    "    # Create a dictionary with the required structure\n",
    "    item = {\n",
    "        'id': id,\n",
    "        'name': harness.tags,\n",
    "        'type': 'dimension',\n",
    "        'version': '1.0',\n",
    "        'scenario_ids': ['scenario_id'],\n",
    "        'scoring_function': {\n",
    "            'tests': test_instances,\n",
    "            'detector_id': []\n",
    "        }\n",
    "    }\n",
    "\n",
    "    # Add the item to the list\n",
    "    data.append(item)\n",
    "\n",
    "# Write the data to a JSONL file\n",
    "with open('harnesses.jsonl', 'w') as f:\n",
    "    for item in data:\n",
    "        f.write(json.dumps(item) + '\\n')"
   ]
  }
 ],
 "metadata": {
  "kernelspec": {
   "display_name": "art_test",
   "language": "python",
   "name": "python3"
  },
  "language_info": {
   "codemirror_mode": {
    "name": "ipython",
    "version": 3
   },
   "file_extension": ".py",
   "mimetype": "text/x-python",
   "name": "python",
   "nbconvert_exporter": "python",
   "pygments_lexer": "ipython3",
   "version": "3.12.2"
  }
 },
 "nbformat": 4,
 "nbformat_minor": 2
}

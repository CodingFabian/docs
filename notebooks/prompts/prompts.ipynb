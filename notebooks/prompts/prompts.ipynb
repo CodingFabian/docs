{
 "cells": [
  {
   "cell_type": "markdown",
   "metadata": {},
   "source": [
    "# Pulling from MongoDB"
   ]
  },
  {
   "cell_type": "code",
   "execution_count": 11,
   "metadata": {},
   "outputs": [],
   "source": [
    "\n",
    "import json\n",
    "from autoredteam.engine.dataloaders import DBGetter\n",
    "import sys\n",
    "import re\n",
    "from dotenv import load_dotenv\n",
    "sys.path.append(\"../\")\n",
    "\n",
    "load_dotenv(\"/Users/vigil/Desktop/Vigil/autoredteam/autoredteam/.env\")\n",
    "\n",
    "def probe_id_extraction(probe):\n",
    "    def extract_parts(input_str):\n",
    "        match = re.search(r'<(garak)\\.probes\\.(\\w+)\\.(\\w+)', input_str)\n",
    "        if match:\n",
    "            return f\"{match.group(1)}.{match.group(2)}\", match.group(3)\n",
    "        return None, None\n",
    "\n",
    "    source, probe_name = extract_parts(probe)\n",
    "    db_getter = DBGetter(SOURCE_STB=source, env_path=\"/Users/vigil/Desktop/Vigil/autoredteam/autoredteam/.env\")\n",
    "    prompt_id = db_getter.get_by_key(probe_name=probe_name, key=\"_id\")\n",
    "    return prompt_id"
   ]
  }
 ],
 "metadata": {
  "kernelspec": {
   "display_name": "art_test",
   "language": "python",
   "name": "python3"
  },
  "language_info": {
   "codemirror_mode": {
    "name": "ipython",
    "version": 3
   },
   "file_extension": ".py",
   "mimetype": "text/x-python",
   "name": "python",
   "nbconvert_exporter": "python",
   "pygments_lexer": "ipython3",
   "version": "3.12.2"
  }
 },
 "nbformat": 4,
 "nbformat_minor": 2
}

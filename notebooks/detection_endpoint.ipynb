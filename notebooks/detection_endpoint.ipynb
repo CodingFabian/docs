{
 "cells": [
  {
   "cell_type": "markdown",
   "metadata": {},
   "source": [
    "# Working with Detections\n",
    "\n",
    "Evaluations tightly couple detectors with probes, using a detector only to evaluate responses from\n",
    "the prompts in probes that use that detector. We offer a detection endpoint to run the detectors in a more atomic manner.\n",
    "Using this functionality, a user can evaluate their preferred payload using our detectors, as long as the payload has the\n",
    "fields required fields to run a detector.\n",
    "\n",
    "You can create, view, and summarize detections with the Vijil Python client.\n",
    "\n",
    "## List Detectors\n",
    "\n",
    "List all supported detectors with the `detections.list_detectors` method."
   ]
  },
  {
   "cell_type": "code",
   "execution_count": 2,
   "metadata": {},
   "outputs": [],
   "source": [
    "# !pip install -U vijil\n",
    "from dotenv import load_dotenv\n",
    "load_dotenv(\".env\")\n",
    "\n",
    "# import and instantiate the client\n",
    "from vijil import Vijil\n",
    "client = Vijil()\n",
    "\n",
    "client.detections.list_detectors()"
   ]
  },
  {
   "cell_type": "markdown",
   "metadata": {},
   "source": [
    "\n",
    "## Create a detection\n",
    "\n",
    "You can use the `detections.create` method to run a detector on a list of inputs."
   ]
  },
  {
   "cell_type": "code",
   "execution_count": 3,
   "metadata": {},
   "outputs": [
    {
     "data": {
      "text/plain": [
       "{'id': 'c114a49a-b282-441f-a7d2-6ab7aa1d3524', 'status': 'CREATED'}"
      ]
     },
     "execution_count": 3,
     "metadata": {},
     "output_type": "execute_result"
    }
   ],
   "source": [
    "client.detections.create(\n",
    "    detector_id = \"llm.AnswerRelevancy\",\n",
    "    detector_inputs = [\n",
    "        {\"question\": \"How do I tie my shoes?\", \"response\": \"To tie your shoes you should first use your laces.\"},\n",
    "        {\"question\": \"How do I tie my shoes?\", \"response\": \"George washington was the first president of the USA.\"}\n",
    "    ]\n",
    ")"
   ]
  },
  {
   "cell_type": "markdown",
   "metadata": {},
   "source": [
    "\n",
    "The relevant parameters are as follows:\n",
    "\n",
    "- `detector_ids`: Identifier for the detector to be called. A full list of detectors is available [here](../../glossary/detectors.md).\n",
    "- `detector_inputs`: List of dicts supplying structured payload to the detector. Keys to the dicts should map to [permitted input fields](#supported-fields-for-detectors) for that detector.\n",
    "- `detector_params`: You can use LLM-based detectors with non-default LLMs by supplying a dictionarity with (1) a hub name, (2) model name, and (3) the name of an API key for that hub you have saved in Evaluate.\n",
    "\n",
    "Below is an example for the use of `detector_params`. Suppose you want to use Llama 3.3 70B Instruct on Together as an evaluator LLM for the answer relevancy metric (it uses gpt-4o on OpenAI by default). Given you have a Together API key saved, you can use the following code"
   ]
  },
  {
   "cell_type": "code",
   "execution_count": null,
   "metadata": {},
   "outputs": [
    {
     "data": {
      "text/plain": [
       "{'id': 'da07cb44-948f-4f6c-a1c3-d6e29d67d982', 'status': 'CREATED'}"
      ]
     },
     "execution_count": 5,
     "metadata": {},
     "output_type": "execute_result"
    }
   ],
   "source": [
    "detection = client.detections.create(\n",
    "    detector_id = \"llm.AnswerRelevancy\",\n",
    "    detector_inputs = [\n",
    "        {\"question\": \"How do I tie my shoes?\", \"response\": \"To tie your shoes you should first use your laces.\"},\n",
    "        {\"question\": \"How do I tie my shoes?\", \"response\": \"George washington was the first president of the USA.\"}\n",
    "    ],\n",
    "    detector_params = {\n",
    "        \"hub\": \"together\",\n",
    "        \"model\": \"meta-llama/Llama-3.3-70B-Instruct-Turbo\"\n",
    "    }\n",
    ")\n",
    "print(detection)"
   ]
  },
  {
   "cell_type": "markdown",
   "metadata": {},
   "source": [
    "\n",
    "## Summarize Detections\n",
    "\n",
    "Get summary scores for a completed detection, including status and related metadata with the `detections.summarize` method."
   ]
  },
  {
   "cell_type": "code",
   "execution_count": null,
   "metadata": {},
   "outputs": [
    {
     "data": {
      "text/html": [
       "<div>\n",
       "<style scoped>\n",
       "    .dataframe tbody tr th:only-of-type {\n",
       "        vertical-align: middle;\n",
       "    }\n",
       "\n",
       "    .dataframe tbody tr th {\n",
       "        vertical-align: top;\n",
       "    }\n",
       "\n",
       "    .dataframe thead th {\n",
       "        text-align: right;\n",
       "    }\n",
       "</style>\n",
       "<table border=\"1\" class=\"dataframe\">\n",
       "  <thead>\n",
       "    <tr style=\"text-align: right;\">\n",
       "      <th></th>\n",
       "      <th>detector_id</th>\n",
       "      <th>status</th>\n",
       "      <th>detector_input</th>\n",
       "      <th>detector_output</th>\n",
       "    </tr>\n",
       "  </thead>\n",
       "  <tbody>\n",
       "    <tr>\n",
       "      <th>0</th>\n",
       "      <td>autoredteam.detectors.llm.AnswerRelevancy</td>\n",
       "      <td>COMPLETED</td>\n",
       "      <td>{'response': 'To tie your shoes you should fir...</td>\n",
       "      <td>{'score': 1.0}</td>\n",
       "    </tr>\n",
       "    <tr>\n",
       "      <th>1</th>\n",
       "      <td>autoredteam.detectors.llm.AnswerRelevancy</td>\n",
       "      <td>COMPLETED</td>\n",
       "      <td>{'response': 'George washington was the first ...</td>\n",
       "      <td>{'score': 0.0}</td>\n",
       "    </tr>\n",
       "  </tbody>\n",
       "</table>\n",
       "</div>"
      ],
      "text/plain": [
       "                                 detector_id     status  \\\n",
       "0  autoredteam.detectors.llm.AnswerRelevancy  COMPLETED   \n",
       "1  autoredteam.detectors.llm.AnswerRelevancy  COMPLETED   \n",
       "\n",
       "                                      detector_input detector_output  \n",
       "0  {'response': 'To tie your shoes you should fir...  {'score': 1.0}  \n",
       "1  {'response': 'George washington was the first ...  {'score': 0.0}  "
      ]
     },
     "execution_count": 7,
     "metadata": {},
     "output_type": "execute_result"
    }
   ],
   "source": [
    "client.detections.describe(detection_id=detection[\"id\"])"
   ]
  },
  {
   "cell_type": "markdown",
   "metadata": {},
   "source": [
    "Takes the optional argument `format`. Permitted values are `dataframe` (default), and `list`, which return a pandas data frame and list of dicts, respectively.\n",
    "\n",
    "## Supported fields for Detectors\n",
    "\n",
    "The table below gives the required set of input fields for each detector.\n",
    "\n",
    "| Detector ID | Required fields: format |\n",
    "|---|---|\n",
    "| `goodside.Glitch` | `response`: str,`triggers`: list[str] |\n",
    "| `base.TriggerListDetector` | `response`: str,`triggers`: list[str] |\n",
    "| `base.TriggerListAbsenceDetector` | `response`: str,`triggers`: list[str] |\n",
    "| `privateinfo.LeakPII` | `response`: str,`triggers`: list[str] |\n",
    "| `encoding.DecodeMatch` | `response`: str,`triggers`: list[str] |\n",
    "| `winobias.TriggerPlusAmbiguity` | `response`: str,`triggers`: list[str] |\n",
    "| `mitigation.TriggerAbsenceWithRefusal` | `response`: str,`triggers`: list[str] |\n",
    "| `mitigation.mathLatexSympy.MathLatexSympy` | `response`: str,`triggers`: list[str] |\n",
    "| `instructionFollowing.InstructionFollowing` | `response`: str,`instructions`: list[str], `kwargs`: list[dict] |\n",
    "| `toolcalling.ToolCorrectness` | `response`: str,`expected_tools`: list[str] |\n",
    "| `nlp.BLEU` | `response`: str,`ground_truth`: str |\n",
    "| `nlp.METROR` | `response`: str,`ground_truth`: str |\n",
    "| `nlp.BERTScore` | `response`: str,`ground_truth`\" str |\n",
    "| `llm.AnswerRelevancy` | `response`: str,`question`: str |\n",
    "| `llm.ContextualPrecision` | `question`: str,`ground_truth`: str,`contexts`: list[str] |\n",
    "| `llm.ContextualRecall` | `ground_truth`: str,`contexts`: list[str] |\n",
    "| `llm.Faithfulness` | `response`: str,`question`: str,`contexts`: list[str] |\n",
    "| `llm.StrongReject` | `response`: str,`forbidden_prompt`: str |\n",
    "| `llm.ConversationRoleAdherence` | `response`: str,`role`: str |\n",
    "| `llm.PolicyViolation` | `response`: str,`input`: str,`policy`: str |\n",
    "| All other detectors | `response`: str |"
   ]
  }
 ],
 "metadata": {
  "kernelspec": {
   "display_name": "py312",
   "language": "python",
   "name": "python3"
  },
  "language_info": {
   "codemirror_mode": {
    "name": "ipython",
    "version": 3
   },
   "file_extension": ".py",
   "mimetype": "text/x-python",
   "name": "python",
   "nbconvert_exporter": "python",
   "pygments_lexer": "ipython3",
   "version": "3.12.3"
  }
 },
 "nbformat": 4,
 "nbformat_minor": 2
}

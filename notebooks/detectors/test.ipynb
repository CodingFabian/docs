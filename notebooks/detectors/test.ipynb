{
 "cells": [
  {
   "cell_type": "code",
   "execution_count": null,
   "metadata": {},
   "outputs": [],
   "source": [
    "import json\n",
    "\n",
    "# Initialize a list to store the edited data\n",
    "edited_data = []\n",
    "\n",
    "# Open the JSONL file\n",
    "with open('detectors.jsonl', 'r') as f:\n",
    "    # Iterate over each line in the file\n",
    "    for line in f:\n",
    "        # Load the JSON object from the line\n",
    "        item = json.loads(line)\n",
    "\n",
    "        # Edit the \"substrings\" field\n",
    "        if item['substrings'] == 'N/A':\n",
    "            item['substrings'] = ''\n",
    "\n",
    "        # Add the edited item to the list\n",
    "        edited_data.append(item)\n",
    "\n",
    "# Write the edited data back to the file\n",
    "with open('detectors.jsonl', 'w') as f:\n",
    "    for item in edited_data:\n",
    "        f.write(json.dumps(item) + '\\n')"
   ]
  }
 ],
 "metadata": {
  "kernelspec": {
   "display_name": "art",
   "language": "python",
   "name": "python3"
  },
  "language_info": {
   "codemirror_mode": {
    "name": "ipython",
    "version": 3
   },
   "file_extension": ".py",
   "mimetype": "text/x-python",
   "name": "python",
   "nbconvert_exporter": "python",
   "pygments_lexer": "ipython3",
   "version": "3.11.8"
  }
 },
 "nbformat": 4,
 "nbformat_minor": 2
}

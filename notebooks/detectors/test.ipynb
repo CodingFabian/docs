{
 "cells": [
  {
   "cell_type": "code",
   "execution_count": 10,
   "metadata": {},
   "outputs": [],
   "source": [
    "from autoredteam.detectors.base import TriggerListAbsenceDetector"
   ]
  },
  {
   "cell_type": "code",
   "execution_count": 11,
   "metadata": {},
   "outputs": [
    {
     "name": "stdout",
     "output_type": "stream",
     "text": [
      "Superclass arguments: ['self']\n",
      "Superclass variables: {'name': <class 'garak.detectors.base.Detector'>, 'detectorname': '__main__.TriggerListDetector', 'description': 'Base Detector class that detects presence of trigger words.', 'super_args': ['self'], 'super_vars': {...}}\n"
     ]
    }
   ],
   "source": [
    "import inspect\n",
    "from garak.detectors import base as garak_base_detectors\n",
    "class TriggerListDetector(garak_base_detectors.TriggerListDetector):\n",
    "    \"\"\"Base Detector class that detects presence of trigger words.\"\"\"\n",
    "\n",
    "    def __init__(self, *args, **kwargs):\n",
    "        super().__init__(*args, **kwargs)\n",
    "\n",
    "        # Store the arguments and variables from the superclass\n",
    "        self.super_args = inspect.getfullargspec(super().__init__).args\n",
    "        self.super_vars = vars(super())\n",
    "\n",
    "# Create an instance of the class\n",
    "detector = TriggerListDetector()\n",
    "\n",
    "# Access the arguments and variables of the superclass\n",
    "print('Superclass arguments:', detector.super_args)\n",
    "print('Superclass variables:', detector.super_vars)"
   ]
  },
  {
   "cell_type": "code",
   "execution_count": 13,
   "metadata": {},
   "outputs": [],
   "source": [
    "def get_triggers(detector, attempt):\n",
    "    # Call the detect method and store the results\n",
    "    detector_results = detector.detect(attempt)\n",
    "\n",
    "    # Check if \"triggers\" is in the attempt's notes\n",
    "    if \"triggers\" in attempt.notes:\n",
    "        # Get the triggers\n",
    "        triggers = attempt.notes[\"triggers\"]\n",
    "\n",
    "        # If triggers is a string, convert it to a list\n",
    "        if isinstance(triggers, str):\n",
    "            triggers = [triggers]\n",
    "\n",
    "        # Return the triggers\n",
    "        return triggers\n",
    "\n",
    "    # If \"triggers\" is not in the attempt's notes, return None\n",
    "    return None"
   ]
  },
  {
   "cell_type": "markdown",
   "metadata": {},
   "source": []
  },
  {
   "cell_type": "code",
   "execution_count": 14,
   "metadata": {},
   "outputs": [
    {
     "name": "stdout",
     "output_type": "stream",
     "text": [
      "None\n"
     ]
    }
   ],
   "source": [
    "import garak.attempt\n",
    "# Create an instance of the TriggerListDetector class\n",
    "detector = TriggerListDetector()\n",
    "\n",
    "# Create an attempt object\n",
    "attempt = garak.attempt.Attempt()\n",
    "\n",
    "# Get the triggers\n",
    "triggers = get_triggers(detector, attempt)\n",
    "\n",
    "# Print the triggers\n",
    "print(triggers)"
   ]
  },
  {
   "cell_type": "code",
   "execution_count": null,
   "metadata": {},
   "outputs": [],
   "source": []
  },
  {
   "cell_type": "code",
   "execution_count": null,
   "metadata": {},
   "outputs": [],
   "source": []
  },
  {
   "cell_type": "code",
   "execution_count": null,
   "metadata": {},
   "outputs": [],
   "source": []
  },
  {
   "cell_type": "code",
   "execution_count": 17,
   "metadata": {},
   "outputs": [],
   "source": [
    "import json\n",
    "\n",
    "# Initialize a list to store the edited data\n",
    "edited_data = []\n",
    "\n",
    "# Open the JSONL file\n",
    "with open('detectors.jsonl', 'r') as f:\n",
    "    # Iterate over each line in the file\n",
    "    for line in f:\n",
    "        # Load the JSON object from the line\n",
    "        item = json.loads(line)\n",
    "\n",
    "        # Edit the \"id\" field\n",
    "        detector_parts = item['detector_ref'].split('.')[-2:]\n",
    "        detector_parts[0] = detector_parts[0].capitalize()\n",
    "        item['id'] = '.'.join(detector_parts)\n",
    "\n",
    "        # Add the edited item to the list\n",
    "        edited_data.append(item)\n",
    "\n",
    "# Write the edited data back to the file\n",
    "with open('detectors.jsonl', 'w') as f:\n",
    "    for item in edited_data:\n",
    "        f.write(json.dumps(item) + '\\n')"
   ]
  }
 ],
 "metadata": {
  "kernelspec": {
   "display_name": "art",
   "language": "python",
   "name": "python3"
  },
  "language_info": {
   "codemirror_mode": {
    "name": "ipython",
    "version": 3
   },
   "file_extension": ".py",
   "mimetype": "text/x-python",
   "name": "python",
   "nbconvert_exporter": "python",
   "pygments_lexer": "ipython3",
   "version": "3.11.8"
  }
 },
 "nbformat": 4,
 "nbformat_minor": 2
}

{
 "cells": [
  {
   "cell_type": "code",
   "execution_count": 1,
   "metadata": {},
   "outputs": [
    {
     "data": {
      "text/plain": [
       "True"
      ]
     },
     "execution_count": 1,
     "metadata": {},
     "output_type": "execute_result"
    }
   ],
   "source": [
    "import sys\n",
    "sys.path.append(\"../\")\n",
    "from dotenv import load_dotenv\n",
    "load_dotenv(\"/Users/vigil/Desktop/Vigil/autoredteam/autoredteam/.env\")"
   ]
  },
  {
   "cell_type": "code",
   "execution_count": 2,
   "metadata": {},
   "outputs": [
    {
     "name": "stdout",
     "output_type": "stream",
     "text": [
      "Loading OctoAI Agent: mistral-7b-instruct-fp16\n"
     ]
    }
   ],
   "source": [
    "from autoredteam.agents.octo import OctoAPI\n",
    "agent = OctoAPI(name = \"mistral-7b-instruct-fp16\", generations=2)"
   ]
  },
  {
   "cell_type": "code",
   "execution_count": 3,
   "metadata": {},
   "outputs": [
    {
     "name": "stderr",
     "output_type": "stream",
     "text": [
      "Some weights of the model checkpoint at ynie/roberta-large-snli_mnli_fever_anli_R1_R2_R3-nli were not used when initializing RobertaForSequenceClassification: ['roberta.pooler.dense.bias', 'roberta.pooler.dense.weight']\n",
      "- This IS expected if you are initializing RobertaForSequenceClassification from the checkpoint of a model trained on another task or with another architecture (e.g. initializing a BertForSequenceClassification model from a BertForPreTraining model).\n",
      "- This IS NOT expected if you are initializing RobertaForSequenceClassification from the checkpoint of a model that you expect to be exactly identical (initializing a BertForSequenceClassification model from a BertForSequenceClassification model).\n"
     ]
    }
   ],
   "source": [
    "from autoredteam.harnesses.dimension import SecurityHarness, ToxicityHarness, PrivacyHarness, HallucinationHarness, RobustnessHarness, ToxicityHarness, StereotypeHarness, FairnessHarness, EthicsHarness\n",
    "from autoredteam.harnesses.owasp import LLMTop10Harness\n",
    "harnesses = [SecurityHarness, ToxicityHarness, PrivacyHarness, HallucinationHarness, RobustnessHarness, ToxicityHarness, StereotypeHarness, FairnessHarness, EthicsHarness, LLMTop10Harness]\n",
    "harness_instances = [harness(agent) for harness in harnesses]"
   ]
  },
  {
   "cell_type": "code",
   "execution_count": 4,
   "metadata": {},
   "outputs": [
    {
     "data": {
      "text/plain": [
       "[<garak.detectors.mitigation.MitigationBypass at 0x31b433950>,\n",
       " <garak.detectors.dan.AntiDAN at 0x31b4338f0>]"
      ]
     },
     "execution_count": 4,
     "metadata": {},
     "output_type": "execute_result"
    }
   ],
   "source": [
    "harness_instances[0].test_instances[0].detectors"
   ]
  },
  {
   "cell_type": "code",
   "execution_count": 46,
   "metadata": {},
   "outputs": [],
   "source": [
    "import json\n",
    "import re\n",
    "\n",
    "def write_harness_data(harnesses, md_file='output.md', json_file='output.json'):\n",
    "    # Initialize a list to store the data for the JSON file\n",
    "    json_data = []\n",
    "\n",
    "    # Open the Markdown file\n",
    "    with open(md_file, 'w') as f:\n",
    "        # Write the table headers\n",
    "        f.write('| Harness | Test | Probe Name | Probe Path | Detector Path | Detector Name |\\n')\n",
    "        f.write('|---------|------|------------|------------|---------------|---------------|\\n')\n",
    "\n",
    "        # Iterate over the harnesses\n",
    "        for harness in harnesses:\n",
    "            # Iterate over the test instances in the harness\n",
    "            for test in harness.test_instances:\n",
    "                # Get the tags, probe name, and detectors\n",
    "                tags = ', '.join([tag.split(':')[-1] for tag in harness.tags])\n",
    "                probe_name = test.probe.probename\n",
    "                detectors = [str(detector) for detector in test.detectors]\n",
    "\n",
    "                # Extract the desired parts from the string representations\n",
    "                test_name = '.'.join(str(test).split('.')[-2:-1])\n",
    "                probe_path = re.search('<(.*) object', str(test.probe)).group(1)\n",
    "                probe_name = probe_path.split('.')[-1]\n",
    "\n",
    "                # Write the data to the Markdown file and add the data to the list for the JSON file\n",
    "                for detector in detectors:\n",
    "                    detector_path = re.search('<(.*) object', detector).group(1)\n",
    "                    detector_name = detector_path.split('.')[-1]\n",
    "                    f.write(f'| {tags} | {test_name} | {probe_name} | {probe_path} | {detector_path} | {detector_name} |\\n')\n",
    "                    json_data.append({\n",
    "                        'Harness': tags,\n",
    "                        'Test': test_name,\n",
    "                        'Probe Name': probe_name,\n",
    "                        'Probe Path': probe_path,\n",
    "                        'Detector Path': detector_path,\n",
    "                        'Detector Name': detector_name\n",
    "                    })\n",
    "\n",
    "    # Write the data to the JSON file\n",
    "    with open(json_file, 'w') as f:\n",
    "        json.dump(json_data, f, indent=4)"
   ]
  },
  {
   "cell_type": "code",
   "execution_count": 47,
   "metadata": {},
   "outputs": [],
   "source": [
    "write_harness_data(harness_instances, md_file='output.md', json_file='output.json')"
   ]
  },
  {
   "cell_type": "code",
   "execution_count": 18,
   "metadata": {},
   "outputs": [],
   "source": [
    "from itertools import cycle\n",
    "from pyvis.network import Network\n",
    "def visualize_harnesses(data, separate_graphs=True):\n",
    "    # Define a list of colors for the harnesses\n",
    "    colors = cycle(['red', 'green', 'blue', 'yellow', 'orange', 'purple', 'pink', 'cyan', 'magenta'])\n",
    "\n",
    "    # Create a dictionary to map harnesses to colors\n",
    "    harness_colors = {}\n",
    "\n",
    "    # Create a dictionary to store a graph for each harness\n",
    "    graphs = {}\n",
    "\n",
    "    # Add nodes and edges to the graphs\n",
    "    for item in data:\n",
    "        harness = item[\"Harness\"]\n",
    "        test = item[\"Test\"]\n",
    "        detectors = item[\"Detector Name\"].split(\", \")\n",
    "\n",
    "        # Assign a color to the harness if it doesn't have one already\n",
    "        if harness not in harness_colors:\n",
    "            harness_colors[harness] = next(colors)\n",
    "\n",
    "        # Create a graph for the harness if it doesn't have one already\n",
    "        if separate_graphs and harness not in graphs:\n",
    "            graphs[harness] = Network(notebook=True, height='800px', width='100%')\n",
    "        elif not separate_graphs and 'all' not in graphs:\n",
    "            graphs['all'] = Network(notebook=True, height='800px', width='100%')\n",
    "\n",
    "        # Get the graph for the current harness\n",
    "        G = graphs[harness] if separate_graphs else graphs['all']\n",
    "\n",
    "        # Add nodes and edges for the harness and test\n",
    "        G.add_node(harness, color=harness_colors[harness])\n",
    "        G.add_node(test, color='skyblue')\n",
    "        G.add_edge(harness, test)\n",
    "\n",
    "        # Add nodes and edges for the test and detectors\n",
    "        for detector in detectors:\n",
    "            G.add_node(detector, color='gray')\n",
    "            G.add_edge(test, detector)\n",
    "\n",
    "    # Show a graph for each harness\n",
    "    for harness, G in graphs.items():\n",
    "        filename = f'{harness}.html' if separate_graphs else 'Master Harness.html'\n",
    "        G.show(filename)\n",
    "\n",
    "        # Add a legend to the HTML file\n",
    "        with open(filename, 'a') as f:\n",
    "            f.write('<div style=\"position: absolute; top: 10px; left: 10px;\">')\n",
    "            f.write('<div><span style=\"display: inline-block; width: 10px; height: 10px; margin-right: 5px; background: skyblue;\"></span>Tests</div>')\n",
    "            f.write('<div><span style=\"display: inline-block; width: 10px; height: 10px; margin-right: 5px; background: gray;\"></span>Detectors</div>')\n",
    "            for harness, color in harness_colors.items():\n",
    "                f.write(f'<div><span style=\"display: inline-block; width: 10px; height: 10px; margin-right: 5px; background: {color};\"></span>{harness}</div>')\n",
    "            f.write('</div>')"
   ]
  },
  {
   "cell_type": "code",
   "execution_count": 19,
   "metadata": {},
   "outputs": [],
   "source": [
    "# Load the JSON data from a file\n",
    "with open('output.json', 'r') as f:\n",
    "    data = json.load(f)"
   ]
  },
  {
   "cell_type": "code",
   "execution_count": 20,
   "metadata": {},
   "outputs": [
    {
     "name": "stdout",
     "output_type": "stream",
     "text": [
      "Warning: When  cdn_resources is 'local' jupyter notebook has issues displaying graphics on chrome/safari. Use cdn_resources='in_line' or cdn_resources='remote' if you have issues viewing graphics in a notebook.\n",
      "Master Harness.html\n"
     ]
    }
   ],
   "source": [
    "visualize_harnesses(data, separate_graphs=False)"
   ]
  },
  {
   "cell_type": "code",
   "execution_count": 22,
   "metadata": {},
   "outputs": [],
   "source": [
    "from autoredteam.harnesses.modulewise import ModuleHarness"
   ]
  },
  {
   "cell_type": "code",
   "execution_count": 26,
   "metadata": {},
   "outputs": [],
   "source": [
    "harnesses = [ModuleHarness]\n",
    "harness_instances_v2 = [harness(agent, module='dan') for harness in harnesses]"
   ]
  },
  {
   "cell_type": "code",
   "execution_count": 27,
   "metadata": {},
   "outputs": [
    {
     "data": {
      "text/plain": [
       "[<garak.detectors.mitigation.MitigationBypass at 0x31b433950>,\n",
       " <garak.detectors.dan.AntiDAN at 0x31b4338f0>]"
      ]
     },
     "execution_count": 27,
     "metadata": {},
     "output_type": "execute_result"
    }
   ],
   "source": [
    "harness_instances_v2[0].test_instances[0].detectors"
   ]
  },
  {
   "cell_type": "code",
   "execution_count": 53,
   "metadata": {},
   "outputs": [],
   "source": [
    "import random\n",
    "from itertools import cycle\n",
    "from pyvis.network import Network\n",
    "import random\n",
    "from itertools import cycle\n",
    "from pyvis.network import Network\n",
    "\n",
    "def visualize_harnesses(data, separate_graphs=True):\n",
    "    # Define a list of colors for the harnesses\n",
    "    colors = cycle(['red', 'green', 'blue', 'yellow', 'orange', 'purple', 'pink', 'cyan', 'magenta'])\n",
    "\n",
    "    # Create a dictionary to map harnesses to colors\n",
    "    harness_colors = {}\n",
    "\n",
    "    # Create a dictionary to store a graph for each harness\n",
    "    graphs = {}\n",
    "\n",
    "    # Add nodes and edges to the graphs\n",
    "    for item in data:\n",
    "        harness = item[\"Harness\"]\n",
    "        test = item[\"Test\"]\n",
    "        detectors = item[\"Detector Name\"].split(\", \")\n",
    "\n",
    "        # Assign a color to the harness if it doesn't have one already\n",
    "        if harness not in harness_colors:\n",
    "            harness_colors[harness] = next(colors)\n",
    "\n",
    "        # Create a graph for the harness if it doesn't have one already\n",
    "        if separate_graphs and harness not in graphs:\n",
    "            graphs[harness] = Network(notebook=True, height='800px', width='100%')\n",
    "        elif not separate_graphs and 'all' not in graphs:\n",
    "            graphs['all'] = Network(notebook=True, height='800px', width='100%')\n",
    "\n",
    "        # Get the graph for the current harness\n",
    "        G = graphs[harness] if separate_graphs else graphs['all']\n",
    "\n",
    "        # Add nodes and edges for the harness and test\n",
    "        harness_score = random.randint(1, 100)\n",
    "        test_score = random.randint(1, 100)\n",
    "        G.add_node(harness, color=harness_colors[harness], title=f'Score: {harness_score}')\n",
    "        G.add_node(test, color='skyblue', title=f'Score: {test_score}')\n",
    "        G.add_edge(harness, test)\n",
    "\n",
    "        # Add nodes and edges for the test and detectors\n",
    "        for detector in detectors:\n",
    "            false_positive = round(random.uniform(1, 99), 2)\n",
    "            false_negative = round(random.uniform(1, 99), 2)\n",
    "            G.add_node(detector, color='gray', title=f'False Positive: {false_positive}, False Negative: {false_negative}')\n",
    "            G.add_edge(test, detector)\n",
    "\n",
    "    # Show a graph for each harness\n",
    "    for harness, G in graphs.items():\n",
    "        filename = f'{harness}.html' if separate_graphs else 'Master Harness.html'\n",
    "        G.show(filename)\n",
    "\n",
    "        # Add a legend to the HTML file\n",
    "        with open(filename, 'a') as f:\n",
    "            f.write('<div style=\"position: absolute; top: 10px; left: 10px;\">')\n",
    "            f.write('<div><span style=\"display: inline-block; width: 10px; height: 10px; margin-right: 5px; background: skyblue;\"></span>Tests</div>')\n",
    "            f.write('<div><span style=\"display: inline-block; width: 10px; height: 10px; margin-right: 5px; background: gray;\"></span>Detectors</div>')\n",
    "            for harness, color in harness_colors.items():\n",
    "                f.write(f'<div><span style=\"display: inline-block; width: 10px; height: 10px; margin-right: 5px; background: {color};\"></span>{harness}</div>')\n",
    "            f.write('</div>')"
   ]
  },
  {
   "cell_type": "code",
   "execution_count": 54,
   "metadata": {},
   "outputs": [
    {
     "name": "stdout",
     "output_type": "stream",
     "text": [
      "Warning: When  cdn_resources is 'local' jupyter notebook has issues displaying graphics on chrome/safari. Use cdn_resources='in_line' or cdn_resources='remote' if you have issues viewing graphics in a notebook.\n",
      "Master Harness.html\n"
     ]
    }
   ],
   "source": [
    "visualize_harnesses(data, separate_graphs=False)"
   ]
  }
 ],
 "metadata": {
  "kernelspec": {
   "display_name": "art",
   "language": "python",
   "name": "python3"
  },
  "language_info": {
   "codemirror_mode": {
    "name": "ipython",
    "version": 3
   },
   "file_extension": ".py",
   "mimetype": "text/x-python",
   "name": "python",
   "nbconvert_exporter": "python",
   "pygments_lexer": "ipython3",
   "version": "3.12.2"
  }
 },
 "nbformat": 4,
 "nbformat_minor": 2
}

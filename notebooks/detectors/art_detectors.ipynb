{
 "cells": [
  {
   "cell_type": "markdown",
   "metadata": {},
   "source": [
    "# Extracting ART Specific Detector Metadata"
   ]
  },
  {
   "cell_type": "code",
   "execution_count": 5,
   "metadata": {},
   "outputs": [],
   "source": [
    "import json\n",
    "import importlib\n",
    "import inspect\n",
    "import uuid\n",
    "\n",
    "def write_detector_info(modules_to_inspect):\n",
    "    # Initialize a list to store the detector info\n",
    "    detector_info = []\n",
    "\n",
    "    # Initialize a set to store the names of the saved detectors\n",
    "    saved_detectors = set()\n",
    "\n",
    "    # Iterate over each module\n",
    "    for module_name in modules_to_inspect:\n",
    "        # Import the module\n",
    "        module = importlib.import_module(module_name)\n",
    "\n",
    "        # Get all classes in the module\n",
    "        classes = inspect.getmembers(module, inspect.isclass)\n",
    "\n",
    "        # Iterate over each class\n",
    "        for class_name, class_ in classes:\n",
    "            # Get all subclasses of the class\n",
    "            subclasses = class_.__subclasses__()\n",
    "\n",
    "            # Iterate over each subclass\n",
    "            for subclass in subclasses:\n",
    "                # Check if the detector has already been saved\n",
    "                if subclass.__name__ in saved_detectors:\n",
    "                    continue\n",
    "\n",
    "                # Add the detector to the set of saved detectors\n",
    "                saved_detectors.add(subclass.__name__)\n",
    "\n",
    "                # Try to create an instance of the subclass\n",
    "                try:\n",
    "                    instance = subclass()\n",
    "                except TypeError:\n",
    "                    instance = None\n",
    "\n",
    "                # Get the subclass info\n",
    "                info = {\n",
    "                    \"Detector\": subclass.__name__,\n",
    "                    \"detector_reference\": subclass.__module__ + \".\" + subclass.__name__,\n",
    "                    \"detector_logic_description\": inspect.getdoc(subclass),\n",
    "                    \"substrings\": instance.substrings if instance and hasattr(instance, 'substrings') else \"N/A\",\n",
    "                    \"tags\": \"\",\n",
    "                    \"uri\": \"\",\n",
    "                    \"version\": \"1.0\",\n",
    "                    \"language\": None,\n",
    "                    \"id\": str(uuid.uuid4())  # Generate a unique UUID\n",
    "                }\n",
    "                # Add the subclass info to the detector info list\n",
    "                detector_info.append(info)\n",
    "\n",
    "    # Write the detector info to a JSONL file\n",
    "    with open('art_detectors.jsonl', 'w') as f:\n",
    "        for item in detector_info:\n",
    "            f.write(json.dumps(item) + '\\n')"
   ]
  },
  {
   "cell_type": "code",
   "execution_count": 6,
   "metadata": {},
   "outputs": [],
   "source": [
    "# List of modules to inspect\n",
    "modules_to_inspect = ['autoredteam.detectors.adultdata', 'autoredteam.detectors.advstereo', \n",
    "                      'autoredteam.detectors.hallucination', \n",
    "                      'autoredteam.detectors.paraphrase', 'autoredteam.detectors.privateinfo']\n",
    "\n",
    "write_detector_info(modules_to_inspect)"
   ]
  }
 ],
 "metadata": {
  "kernelspec": {
   "display_name": "art_test",
   "language": "python",
   "name": "python3"
  },
  "language_info": {
   "codemirror_mode": {
    "name": "ipython",
    "version": 3
   },
   "file_extension": ".py",
   "mimetype": "text/x-python",
   "name": "python",
   "nbconvert_exporter": "python",
   "pygments_lexer": "ipython3",
   "version": "3.11.8"
  }
 },
 "nbformat": 4,
 "nbformat_minor": 2
}

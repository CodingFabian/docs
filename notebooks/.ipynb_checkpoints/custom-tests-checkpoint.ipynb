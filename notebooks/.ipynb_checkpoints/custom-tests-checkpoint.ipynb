{
 "cells": [
  {
   "cell_type": "markdown",
   "id": "2b053fc7-fa00-4275-b62e-9d4e7214bc8e",
   "metadata": {},
   "source": [
    "# Writing Custom Tests\n",
    "\n",
    "You can also create custom tests with AutoRedTeam. This allows for more flexibility if some AutoRedTeam tests\n",
    "used by default do not suit your needs. While this is a bit more advanced than the previous example,\n",
    "it is still pretty straightforward and can be done with a handful lines of code.\n",
    "\n",
    "Below, we are going craft a simple test of factuality. We'll start with a basic factual question \"Who was the first president of USA?\",\n",
    "generate a few paraphrases of this question, and write a test suite that checks whether the paraphrased questions still output the intended answer.\n",
    "\n",
    "Let's start by importing a few classes from `autoredteam`."
   ]
  },
  {
   "cell_type": "code",
   "execution_count": 1,
   "id": "7734c634-c5d4-43bf-8898-b830a1865a33",
   "metadata": {},
   "outputs": [
    {
     "name": "stderr",
     "output_type": "stream",
     "text": [
      "/home/smajumdar/miniconda3/lib/python3.11/site-packages/tqdm/auto.py:21: TqdmWarning: IProgress not found. Please update jupyter and ipywidgets. See https://ipywidgets.readthedocs.io/en/stable/user_install.html\n",
      "  from .autonotebook import tqdm as notebook_tqdm\n"
     ]
    }
   ],
   "source": [
    "from autoredteam.tests.base import Test\n",
    "from autoredteam.perturbations.paraphrase import PegasusT5\n",
    "from autoredteam.detectors.base import StringAbsenceDetector"
   ]
  },
  {
   "cell_type": "markdown",
   "id": "312b1e64-c520-41ec-872d-263e580f2a68",
   "metadata": {},
   "source": [
    "The base `Test` class allows you to write custom tests, the `PegasusT5` class is a wrapper around a paraphrase generation model, and `StringAbsenceDetector` checks for absence of a specified string in the output when it's called on an 'attempt', essentially an LLM input-output pair.\n",
    "\n",
    "Let's start by generating a few paraphrases."
   ]
  },
  {
   "cell_type": "code",
   "execution_count": 2,
   "id": "5292d077-a458-4753-88b9-8358270de171",
   "metadata": {},
   "outputs": [
    {
     "name": "stderr",
     "output_type": "stream",
     "text": [
      "Some weights of PegasusForConditionalGeneration were not initialized from the model checkpoint at tuner007/pegasus_paraphrase and are newly initialized: ['model.decoder.embed_positions.weight', 'model.encoder.embed_positions.weight']\n",
      "You should probably TRAIN this model on a down-stream task to be able to use it for predictions and inference.\n",
      "/home/smajumdar/miniconda3/lib/python3.11/site-packages/transformers/generation/configuration_utils.py:389: UserWarning: `do_sample` is set to `False`. However, `temperature` is set to `1.5` -- this flag is only used in sample-based generation modes. You should set `do_sample=True` or unset `temperature`.\n",
      "  warnings.warn(\n"
     ]
    },
    {
     "data": {
      "text/plain": [
       "['Who was the first president of the USA?',\n",
       " 'Who was the first president of the United States?',\n",
       " 'Who was the first president of the US?',\n",
       " 'Who was the first President of the USA?',\n",
       " 'Who was the first American president?',\n",
       " 'The first president of the USA?']"
      ]
     },
     "execution_count": 2,
     "metadata": {},
     "output_type": "execute_result"
    }
   ],
   "source": [
    "prompt = \"Who was the first president of USA?\"\n",
    "pp_class = PegasusT5()\n",
    "pp_prompts = pp_class.perturb_prompt(prompt)\n",
    "pp_prompts"
   ]
  },
  {
   "cell_type": "code",
   "execution_count": null,
   "id": "d214604d-513a-46ee-aa59-7b342e8eb7cd",
   "metadata": {},
   "outputs": [],
   "source": [
    "We then instantiate the detector with the correct answer, and define our test that wraps around the paraphrased prompts and the detector instance.\n",
    "\n",
    "```python\n",
    "custom_detector = StringAbsenceDetector(substrings = [\"George Washington\"])\n",
    "custom_test = Test(\n",
    "    name = 'FirstPresident',\n",
    "    prompts = pp_prompts,\n",
    "    detectors = [custom_detector]\n",
    ")\n",
    "```\n",
    "\n",
    "That's it, we're now ready to run our test! To do this, we use a Mistral-7B model off OctoAI as before.\n",
    "\n",
    "```python\n",
    "from autoredteam.agents.octo import OctoAPI\n",
    "agent = OctoAPI(name = \"mistral-7b-instruct-fp16\", generations=2)\n",
    "custom_test.run(agent)\n",
    "# FirstPresident                    base.StringAbsenceDetector:   12/  12 ( 100.0%) passed\n",
    "```\n",
    "\n",
    "As we see above, our test `FirstPresident` has a 100% success rate on the Mistral 7B model. This indicates the model generated the correct answer in all the attempts.\n",
    "\n",
    "To double check, let's finish by printing out the outputs from all attempts.\n",
    "\n",
    "```python\n",
    "custom_test.eval_outputs\n",
    "# [' The first president of the United States was George Washington. He served two terms from April 30, 1789, to March 4, 1797. Washington played a crucial role in the American Revolution and was unanimously chosen as the first president under the new Constitution. His leadership and vision helped establish the foundations of the American government.',\n",
    "#  ' The first president of the United States was George Washington. He served two terms from April 30, 1789, to March 4, 1797. Washington played a crucial role in the American Revolution and was unanimously chosen as the first president under the new Constitution. His leadership and vision helped establish the foundations of American democracy.',\n",
    "#  ' The first President of the United States was George Washington. He served two terms from April 30, 1789, to March 4, 1797. Washington played a crucial role in the founding of the country and was unanimously chosen by the Electoral College to lead the new nation. His leadership and vision helped establish the foundations of American democracy.',\n",
    "#  ' The first President of the United States was George Washington. He served two terms from April 30, 1789, to March 4, 1797. Washington played a crucial role in the founding of the country and was unanimously chosen by the Electoral College to lead the new nation. His leadership and vision helped establish the foundations of American democracy.',\n",
    "#  ' The first President of the United States was George Washington. He served two terms from April 30, 1789, to March 4, 1797. Washington played a crucial role in the founding of the country and was unanimously chosen by the Electoral College to lead the new nation. His leadership and vision set the foundation for the presidency and American democracy.',\n",
    "#  ' The first President of the United States was George Washington. He served two terms from April 30, 1789, to March 4, 1797. Washington played a crucial role in the founding of the country and was unanimously chosen by the Electoral College to lead the new nation. His leadership and vision set the foundation for the presidency and American democracy.',\n",
    "#  ' The first President of the United States was George Washington. He served two terms from April 30, 1789, to March 4, 1797. Washington played a crucial role in the founding of the country and was unanimously chosen by the Electoral College to lead the new nation. His leadership and vision helped establish many of the foundational institutions and policies that continue to shape American government.',\n",
    "#  ' The first President of the United States was George Washington. He served two terms from April 30, 1789, to March 4, 1797. Washington played a crucial role in the founding of the country and was unanimously chosen by the Electoral College to lead the new nation. His leadership and vision set the foundation for the presidency and American democracy.',\n",
    "#  ' The first American president was George Washington. He served two terms from April 30, 1789, to March 4, 1797. Washington played a crucial role in the founding of the United States and was unanimously chosen by the Electoral College to lead the new nation. His presidency set many precedents and helped establish the framework for the executive branch of government.',\n",
    "#  ' The first American president was George Washington. He served two terms from April 30, 1789, to March 4, 1797. Washington played a crucial role in the founding of the United States and was unanimously chosen by the Electoral College to lead the new nation. His presidency set many precedents and helped establish the foundations of American democracy.',\n",
    "#  \" George Washington was the first President of the United States, serving two terms from April 30, 1789, to March 4, 1797. He played a crucial role in the American Revolution and was unanimously elected as the President by the Electoral College. Washington's leadership and vision helped establish the foundations of the American government and set the precedent for the peaceful transfer of power.\",\n",
    "#  \" George Washington was the first President of the United States, serving two terms from April 30, 1789, to March 4, 1797. He played a crucial role in the American Revolution and was unanimously elected as the President by the Electoral College. Washington's leadership and vision helped establish the foundations of the American government and set the precedent for the peaceful transfer of power.\"]\n",
    " ```"
   ]
  }
 ],
 "metadata": {
  "kernelspec": {
   "display_name": "Python 3 (ipykernel)",
   "language": "python",
   "name": "python3"
  },
  "language_info": {
   "codemirror_mode": {
    "name": "ipython",
    "version": 3
   },
   "file_extension": ".py",
   "mimetype": "text/x-python",
   "name": "python",
   "nbconvert_exporter": "python",
   "pygments_lexer": "ipython3",
   "version": "3.11.5"
  }
 },
 "nbformat": 4,
 "nbformat_minor": 5
}
